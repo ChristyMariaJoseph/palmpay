{
  "nbformat": 4,
  "nbformat_minor": 0,
  "metadata": {
    "colab": {
      "provenance": [],
      "authorship_tag": "ABX9TyNDu6S4ZQj/VIuuxfYz/4q2",
      "include_colab_link": true
    },
    "kernelspec": {
      "name": "python3",
      "display_name": "Python 3"
    },
    "language_info": {
      "name": "python"
    },
    "accelerator": "GPU",
    "gpuClass": "standard"
  },
  "cells": [
    {
      "cell_type": "markdown",
      "metadata": {
        "id": "view-in-github",
        "colab_type": "text"
      },
      "source": [
        "<a href=\"https://colab.research.google.com/github/ChristyMariaJoseph/palmpay/blob/main/Adam_Optimization.ipynb\" target=\"_parent\"><img src=\"https://colab.research.google.com/assets/colab-badge.svg\" alt=\"Open In Colab\"/></a>"
      ]
    },
    {
      "cell_type": "code",
      "execution_count": null,
      "metadata": {
        "id": "8XmUq89MpUmn",
        "colab": {
          "base_uri": "https://localhost:8080/"
        },
        "outputId": "82804ddb-d68e-4b37-a045-e64a3e3df442"
      },
      "outputs": [
        {
          "output_type": "stream",
          "name": "stdout",
          "text": [
            "Mounted at /content/drive\n"
          ]
        }
      ],
      "source": [
        "import cv2\n",
        "from google.colab.patches import cv2_imshow\n",
        "import numpy as np\n",
        "import tensorflow as tf\n",
        "from tensorflow import keras\n",
        "from PIL import Image\n",
        "from google.colab import drive\n",
        "drive.mount('/content/drive')\n",
        "import glob"
      ]
    },
    {
      "cell_type": "code",
      "source": [
        "!ln -s /content/drive/MyDrive!"
      ],
      "metadata": {
        "id": "zMJAjeH_qALG"
      },
      "execution_count": null,
      "outputs": []
    },
    {
      "cell_type": "code",
      "source": [
        "%cd /content/drive/MyDrive/Project"
      ],
      "metadata": {
        "colab": {
          "base_uri": "https://localhost:8080/"
        },
        "id": "dMMWmX7YqKZh",
        "outputId": "c0596dbf-86df-42a4-e727-9262b8db9fb7"
      },
      "execution_count": null,
      "outputs": [
        {
          "output_type": "stream",
          "name": "stdout",
          "text": [
            "/content/drive/MyDrive/Project\n"
          ]
        }
      ]
    },
    {
      "cell_type": "code",
      "source": [
        "print(\"training model\")"
      ],
      "metadata": {
        "colab": {
          "base_uri": "https://localhost:8080/"
        },
        "id": "ySJmUZUxqZK9",
        "outputId": "dfd33241-f819-498f-a136-57cbedfbed97"
      },
      "execution_count": null,
      "outputs": [
        {
          "output_type": "stream",
          "name": "stdout",
          "text": [
            "training model\n"
          ]
        }
      ]
    },
    {
      "cell_type": "code",
      "source": [
        "classes = [\"Abitha\", \"Ambily\", \"Ansona\", \"Arjun\", \"Ashwin\", \"Dennis\", \"Devika\", \"Don\", \"Franklin\", \"Jesna\", \"Liya\", \"Noufiya\", \"Sneha\", \"Surya\", \"Vismaya\", \"Vyshnavi\"]"
      ],
      "metadata": {
        "id": "kxst-AoIqinn"
      },
      "execution_count": null,
      "outputs": []
    },
    {
      "cell_type": "code",
      "source": [
        "num_classes = 16"
      ],
      "metadata": {
        "id": "F6YhGqC_ilBq"
      },
      "execution_count": null,
      "outputs": []
    },
    {
      "cell_type": "code",
      "source": [
        "num_Abitha_train = 40\n",
        "num_Ambily_train = 40\n",
        "num_Ansona_train = 40\n",
        "num_Arjun_train = 40\n",
        "num_Ashwin_train = 40\n",
        "num_Dennis_train = 40\n",
        "num_Devika_train = 40\n",
        "num_Don_train = 40\n",
        "num_Franklin_train = 40\n",
        "num_Jesna_train = 40\n",
        "num_Liya_train = 40\n",
        "num_Noufiya_train = 40\n",
        "num_Sneha_train = 40\n",
        "num_Surya_train = 40\n",
        "num_Vismaya_train = 40\n",
        "num_Vyshnavi_train = 40"
      ],
      "metadata": {
        "id": "WtCOe6Adq_Sn"
      },
      "execution_count": null,
      "outputs": []
    },
    {
      "cell_type": "code",
      "source": [
        "image_height = 600\n",
        "image_width = 600\n",
        "image_channels = 1\n",
        "\n",
        "# Initialize train_images as an empty array of the correct shape\n",
        "train_images1 = np.zeros((42, image_height, image_width, image_channels), dtype=np.float32)"
      ],
      "metadata": {
        "id": "tLlMAokGrF18"
      },
      "execution_count": null,
      "outputs": []
    },
    {
      "cell_type": "code",
      "source": [
        "Abitha_images=[]\n",
        "Ambily_images = []\n",
        "Ansona_images = []\n",
        "Arjun_images = []\n",
        "Ashwin_images = []\n",
        "Dennis_images = []\n",
        "Devika_images = []\n",
        "Don_images = []\n",
        "Franklin_images = []\n",
        "Jesna_images = []\n",
        "Liya_images = []\n",
        "Noufiya_images = []\n",
        "Sneha_images = []\n",
        "Surya_images = []\n",
        "Vismaya_images = []\n",
        "Vyshnavi_images = []"
      ],
      "metadata": {
        "id": "0Y3IkhH0rhF3"
      },
      "execution_count": null,
      "outputs": []
    },
    {
      "cell_type": "code",
      "source": [
        "image_path1 = glob.glob(\"ABITHA/Abitha Processed/*.jpg\")\n",
        "for i in range(num_Abitha_train):\n",
        "   pic1 = np.array(Image.open(image_path1[i]))\n",
        "   Abitha_images.append(pic1)"
      ],
      "metadata": {
        "id": "XtoZ4yZfrnbK"
      },
      "execution_count": null,
      "outputs": []
    },
    {
      "cell_type": "code",
      "source": [
        "image_path2 = glob.glob(\"Ambily/Ambily Processed/*.jpg\")\n",
        "for i in range(num_Ambily_train):\n",
        "   pic2 = np.array(Image.open(image_path2[i]))\n",
        "   Ambily_images.append(pic2)"
      ],
      "metadata": {
        "id": "gIdp8CI7r-nq"
      },
      "execution_count": null,
      "outputs": []
    },
    {
      "cell_type": "code",
      "source": [
        "image_path3 = glob.glob(\"ANSONA/Ansona Processed/*.jpg\")\n",
        "for i in range(num_Ansona_train):\n",
        "   pic3 = np.array(Image.open(image_path3[i]))\n",
        "   Ansona_images.append(pic3)"
      ],
      "metadata": {
        "id": "VFMBn4N3zITD"
      },
      "execution_count": null,
      "outputs": []
    },
    {
      "cell_type": "code",
      "source": [
        "image_path4 = glob.glob(\"ARJUN/Arjun Processed/*.jpg\")\n",
        "for i in range(num_Arjun_train):\n",
        "   pic4 = np.array(Image.open(image_path4[i]))\n",
        "   Arjun_images.append(pic4)"
      ],
      "metadata": {
        "id": "Y9Bs4It8zb45"
      },
      "execution_count": null,
      "outputs": []
    },
    {
      "cell_type": "code",
      "source": [
        "image_path5 = glob.glob(\"ashwin/Ashwin Processed/*.jpg\")\n",
        "for i in range(num_Ashwin_train):\n",
        "   pic5 = np.array(Image.open(image_path5[i]))\n",
        "   Ashwin_images.append(pic5)"
      ],
      "metadata": {
        "id": "BvvGXGdUz8bg"
      },
      "execution_count": null,
      "outputs": []
    },
    {
      "cell_type": "code",
      "source": [
        "image_path6 = glob.glob(\"DENNIS/Dennis Processed/*.jpg\")\n",
        "for i in range(num_Dennis_train):\n",
        "   pic6 = np.array(Image.open(image_path6[i]))\n",
        "   Dennis_images.append(pic6)"
      ],
      "metadata": {
        "id": "JbcaLJn90YDV"
      },
      "execution_count": null,
      "outputs": []
    },
    {
      "cell_type": "code",
      "source": [
        "image_path7 = glob.glob(\"DEVIKA/Devika Processed/*.jpg\")\n",
        "for i in range(num_Devika_train):\n",
        "   pic7 = np.array(Image.open(image_path7[i]))\n",
        "   Devika_images.append(pic7)"
      ],
      "metadata": {
        "id": "u5rxwkfj0ou9"
      },
      "execution_count": null,
      "outputs": []
    },
    {
      "cell_type": "code",
      "source": [
        "image_path8 = glob.glob(\"DON/Don Processed/*.jpg\")\n",
        "for i in range(num_Don_train):\n",
        "   pic8 = np.array(Image.open(image_path8[i]))\n",
        "   Don_images.append(pic8)"
      ],
      "metadata": {
        "id": "4hehPpYbIqX2"
      },
      "execution_count": null,
      "outputs": []
    },
    {
      "cell_type": "code",
      "source": [
        "image_path9 = glob.glob(\"Franklin/Franklin Processed/*.jpg\")\n",
        "for i in range(num_Franklin_train):\n",
        "   pic9 = np.array(Image.open(image_path9[i]))\n",
        "   Franklin_images.append(pic9)"
      ],
      "metadata": {
        "id": "bbbCGRCnI1t6"
      },
      "execution_count": null,
      "outputs": []
    },
    {
      "cell_type": "code",
      "source": [
        "image_path10 = glob.glob(\"Jesna /Jesna Processed/*.jpg\")\n",
        "for i in range(num_Jesna_train):\n",
        "   pic10 = np.array(Image.open(image_path10[i]))\n",
        "   Jesna_images.append(pic10)"
      ],
      "metadata": {
        "id": "Ey9zOfDmJIhy"
      },
      "execution_count": null,
      "outputs": []
    },
    {
      "cell_type": "code",
      "source": [
        "image_path11 = glob.glob(\"LIYA/liya_processed/*.jpg\")\n",
        "for i in range(num_Liya_train):\n",
        "   pic11 = np.array(Image.open(image_path11[i]))\n",
        "   Liya_images.append(pic11)"
      ],
      "metadata": {
        "id": "WUNoXbwxJhUa"
      },
      "execution_count": null,
      "outputs": []
    },
    {
      "cell_type": "code",
      "source": [
        "image_path12 = glob.glob(\"noufiya/Noufiya processed/*.jpg\")\n",
        "for i in range(num_Noufiya_train):\n",
        "   pic12 = np.array(Image.open(image_path12[i]))\n",
        "   Noufiya_images.append(pic12)"
      ],
      "metadata": {
        "id": "uYXeAnPNJuWM"
      },
      "execution_count": null,
      "outputs": []
    },
    {
      "cell_type": "code",
      "source": [
        "image_path13 = glob.glob(\"SNEHA/Sneha Processed/*.jpg\")\n",
        "for i in range(num_Sneha_train):\n",
        "   pic13 = np.array(Image.open(image_path13[i]))\n",
        "   Sneha_images.append(pic13)"
      ],
      "metadata": {
        "id": "4n7_nGkcJw13"
      },
      "execution_count": null,
      "outputs": []
    },
    {
      "cell_type": "code",
      "source": [
        "image_path14 = glob.glob(\"surya/Surya Processed/*.jpg\")\n",
        "for i in range(num_Surya_train):\n",
        "   pic14 = np.array(Image.open(image_path14[i]))\n",
        "   Surya_images.append(pic14)"
      ],
      "metadata": {
        "id": "HPQoaZzMKIFP"
      },
      "execution_count": null,
      "outputs": []
    },
    {
      "cell_type": "code",
      "source": [
        "image_path15 = glob.glob(\"vismaya/Vismaya Processed/*.jpg\")\n",
        "for i in range(num_Vismaya_train):\n",
        "   pic15 = np.array(Image.open(image_path15[i]))\n",
        "   Vismaya_images.append(pic15)"
      ],
      "metadata": {
        "id": "DeRUuGy4KYss"
      },
      "execution_count": null,
      "outputs": []
    },
    {
      "cell_type": "code",
      "source": [
        "image_path16 = glob.glob(\"VYSHNAVI/vyshnavi Processed/*.jpg\")\n",
        "for i in range(num_Vyshnavi_train):\n",
        "   pic16 = np.array(Image.open(image_path16[i]))\n",
        "   Vyshnavi_images.append(pic16)"
      ],
      "metadata": {
        "id": "vo_rf3rLKmvz"
      },
      "execution_count": null,
      "outputs": []
    },
    {
      "cell_type": "code",
      "source": [
        "image_sets = [Abitha_images, Ambily_images, Ansona_images, Arjun_images, Ashwin_images, Dennis_images, Devika_images, Don_images, Franklin_images, Jesna_images, Liya_images, Noufiya_images, Sneha_images, Surya_images, Vismaya_images, Vyshnavi_images]"
      ],
      "metadata": {
        "id": "bE7W_5Z_10Ey"
      },
      "execution_count": null,
      "outputs": []
    },
    {
      "cell_type": "code",
      "source": [
        "train_images = np.concatenate(image_sets, axis=0)"
      ],
      "metadata": {
        "id": "qB4JHwNWsM3A"
      },
      "execution_count": null,
      "outputs": []
    },
    {
      "cell_type": "code",
      "source": [
        "num_image_sets = len(image_sets)\n",
        "train_labels = np.concatenate([i*np.ones(len(image_sets[i])) for i in range(num_image_sets)])"
      ],
      "metadata": {
        "id": "dV6LdApo2ORH"
      },
      "execution_count": null,
      "outputs": []
    },
    {
      "cell_type": "code",
      "source": [
        "train_images = train_images / 255.0"
      ],
      "metadata": {
        "id": "ZJqdRz7YsgR4"
      },
      "execution_count": null,
      "outputs": []
    },
    {
      "cell_type": "code",
      "source": [
        "print(train_images.shape)"
      ],
      "metadata": {
        "colab": {
          "base_uri": "https://localhost:8080/"
        },
        "id": "ZrizjRCV2c1h",
        "outputId": "be9fd8a8-ad71-4171-deab-4cac9a48c6d3"
      },
      "execution_count": null,
      "outputs": [
        {
          "output_type": "stream",
          "name": "stdout",
          "text": [
            "(640, 600, 600)\n"
          ]
        }
      ]
    },
    {
      "cell_type": "code",
      "source": [
        "print(train_labels.shape)"
      ],
      "metadata": {
        "colab": {
          "base_uri": "https://localhost:8080/"
        },
        "id": "3OJqmsqG2iXe",
        "outputId": "d8d48203-a4d3-47a2-bb5f-c7368b7a02ca"
      },
      "execution_count": null,
      "outputs": [
        {
          "output_type": "stream",
          "name": "stdout",
          "text": [
            "(640,)\n"
          ]
        }
      ]
    },
    {
      "cell_type": "code",
      "source": [
        "model = keras.Sequential([\n",
        "    keras.layers.Conv2D(32, (3, 3), activation='relu', input_shape=(600, 600, 1)),\n",
        "    keras.layers.MaxPooling2D((2, 2)),\n",
        "    keras.layers.Flatten(),\n",
        "    keras.layers.Dense(64, activation='relu'),\n",
        "    keras.layers.Dense(num_classes, activation='softmax')])"
      ],
      "metadata": {
        "id": "YX8iyAdmhc8f"
      },
      "execution_count": null,
      "outputs": []
    },
    {
      "cell_type": "code",
      "source": [
        "model.compile(optimizer=tf.keras.optimizers.Adam(), \n",
        "              loss='sparse_categorical_crossentropy',\n",
        "              metrics=['accuracy'])"
      ],
      "metadata": {
        "id": "-wZd1Q6e0fIx"
      },
      "execution_count": null,
      "outputs": []
    },
    {
      "cell_type": "code",
      "source": [
        "# Train the model\n",
        "model.fit(train_images, train_labels, epochs=100)\n"
      ],
      "metadata": {
        "id": "zFJxaZvwhf6g",
        "colab": {
          "base_uri": "https://localhost:8080/"
        },
        "outputId": "50148c46-b020-4cc8-885b-551cfab7a009"
      },
      "execution_count": null,
      "outputs": [
        {
          "output_type": "stream",
          "name": "stdout",
          "text": [
            "Epoch 1/100\n",
            "20/20 [==============================] - 14s 151ms/step - loss: 10.2261 - accuracy: 0.3578\n",
            "Epoch 2/100\n",
            "20/20 [==============================] - 3s 149ms/step - loss: 1.1455 - accuracy: 0.6344\n",
            "Epoch 3/100\n",
            "20/20 [==============================] - 3s 149ms/step - loss: 0.6367 - accuracy: 0.7672\n",
            "Epoch 4/100\n",
            "20/20 [==============================] - 3s 161ms/step - loss: 0.3685 - accuracy: 0.8531\n",
            "Epoch 5/100\n",
            "20/20 [==============================] - 3s 151ms/step - loss: 0.2135 - accuracy: 0.9234\n",
            "Epoch 6/100\n",
            "20/20 [==============================] - 3s 149ms/step - loss: 0.1579 - accuracy: 0.9359\n",
            "Epoch 7/100\n",
            "20/20 [==============================] - 3s 149ms/step - loss: 0.1276 - accuracy: 0.9422\n",
            "Epoch 8/100\n",
            "20/20 [==============================] - 3s 154ms/step - loss: 0.1131 - accuracy: 0.9422\n",
            "Epoch 9/100\n",
            "20/20 [==============================] - 3s 156ms/step - loss: 0.0994 - accuracy: 0.9422\n",
            "Epoch 10/100\n",
            "20/20 [==============================] - 3s 148ms/step - loss: 0.0844 - accuracy: 0.9438\n",
            "Epoch 11/100\n",
            "20/20 [==============================] - 3s 149ms/step - loss: 0.0560 - accuracy: 0.9781\n",
            "Epoch 12/100\n",
            "20/20 [==============================] - 3s 148ms/step - loss: 0.0105 - accuracy: 1.0000\n",
            "Epoch 13/100\n",
            "20/20 [==============================] - 3s 159ms/step - loss: 0.0020 - accuracy: 1.0000\n",
            "Epoch 14/100\n",
            "20/20 [==============================] - 3s 152ms/step - loss: 9.1750e-04 - accuracy: 1.0000\n",
            "Epoch 15/100\n",
            "20/20 [==============================] - 3s 148ms/step - loss: 7.0207e-04 - accuracy: 1.0000\n",
            "Epoch 16/100\n",
            "20/20 [==============================] - 3s 149ms/step - loss: 5.5625e-04 - accuracy: 1.0000\n",
            "Epoch 17/100\n",
            "20/20 [==============================] - 3s 151ms/step - loss: 4.7767e-04 - accuracy: 1.0000\n",
            "Epoch 18/100\n",
            "20/20 [==============================] - 3s 158ms/step - loss: 4.1906e-04 - accuracy: 1.0000\n",
            "Epoch 19/100\n",
            "20/20 [==============================] - 3s 149ms/step - loss: 3.7816e-04 - accuracy: 1.0000\n",
            "Epoch 20/100\n",
            "20/20 [==============================] - 3s 150ms/step - loss: 3.4208e-04 - accuracy: 1.0000\n",
            "Epoch 21/100\n",
            "20/20 [==============================] - 3s 150ms/step - loss: 3.1313e-04 - accuracy: 1.0000\n",
            "Epoch 22/100\n",
            "20/20 [==============================] - 3s 163ms/step - loss: 2.8610e-04 - accuracy: 1.0000\n",
            "Epoch 23/100\n",
            "20/20 [==============================] - 3s 153ms/step - loss: 2.6415e-04 - accuracy: 1.0000\n",
            "Epoch 24/100\n",
            "20/20 [==============================] - 3s 149ms/step - loss: 2.4509e-04 - accuracy: 1.0000\n",
            "Epoch 25/100\n",
            "20/20 [==============================] - 3s 148ms/step - loss: 2.2820e-04 - accuracy: 1.0000\n",
            "Epoch 26/100\n",
            "20/20 [==============================] - 3s 153ms/step - loss: 2.1257e-04 - accuracy: 1.0000\n",
            "Epoch 27/100\n",
            "20/20 [==============================] - 3s 162ms/step - loss: 1.9870e-04 - accuracy: 1.0000\n",
            "Epoch 28/100\n",
            "20/20 [==============================] - 3s 148ms/step - loss: 1.8547e-04 - accuracy: 1.0000\n",
            "Epoch 29/100\n",
            "20/20 [==============================] - 3s 149ms/step - loss: 1.7499e-04 - accuracy: 1.0000\n",
            "Epoch 30/100\n",
            "20/20 [==============================] - 3s 150ms/step - loss: 1.6488e-04 - accuracy: 1.0000\n",
            "Epoch 31/100\n",
            "20/20 [==============================] - 3s 158ms/step - loss: 1.5570e-04 - accuracy: 1.0000\n",
            "Epoch 32/100\n",
            "20/20 [==============================] - 3s 156ms/step - loss: 1.4754e-04 - accuracy: 1.0000\n",
            "Epoch 33/100\n",
            "20/20 [==============================] - 3s 149ms/step - loss: 1.4003e-04 - accuracy: 1.0000\n",
            "Epoch 34/100\n",
            "20/20 [==============================] - 3s 149ms/step - loss: 1.3275e-04 - accuracy: 1.0000\n",
            "Epoch 35/100\n",
            "20/20 [==============================] - 3s 150ms/step - loss: 1.2589e-04 - accuracy: 1.0000\n",
            "Epoch 36/100\n",
            "20/20 [==============================] - 3s 162ms/step - loss: 1.2003e-04 - accuracy: 1.0000\n",
            "Epoch 37/100\n",
            "20/20 [==============================] - 3s 149ms/step - loss: 1.1429e-04 - accuracy: 1.0000\n",
            "Epoch 38/100\n",
            "20/20 [==============================] - 3s 149ms/step - loss: 1.0929e-04 - accuracy: 1.0000\n",
            "Epoch 39/100\n",
            "20/20 [==============================] - 3s 150ms/step - loss: 1.0454e-04 - accuracy: 1.0000\n",
            "Epoch 40/100\n",
            "20/20 [==============================] - 3s 157ms/step - loss: 1.0024e-04 - accuracy: 1.0000\n",
            "Epoch 41/100\n",
            "20/20 [==============================] - 3s 158ms/step - loss: 9.6048e-05 - accuracy: 1.0000\n",
            "Epoch 42/100\n",
            "20/20 [==============================] - 3s 150ms/step - loss: 9.2299e-05 - accuracy: 1.0000\n",
            "Epoch 43/100\n",
            "20/20 [==============================] - 3s 151ms/step - loss: 8.8506e-05 - accuracy: 1.0000\n",
            "Epoch 44/100\n",
            "20/20 [==============================] - 3s 151ms/step - loss: 8.5026e-05 - accuracy: 1.0000\n",
            "Epoch 45/100\n",
            "20/20 [==============================] - 3s 163ms/step - loss: 8.1743e-05 - accuracy: 1.0000\n",
            "Epoch 46/100\n",
            "20/20 [==============================] - 3s 150ms/step - loss: 7.8689e-05 - accuracy: 1.0000\n",
            "Epoch 47/100\n",
            "20/20 [==============================] - 3s 158ms/step - loss: 7.5636e-05 - accuracy: 1.0000\n",
            "Epoch 48/100\n",
            "20/20 [==============================] - 3s 167ms/step - loss: 7.2989e-05 - accuracy: 1.0000\n",
            "Epoch 49/100\n",
            "20/20 [==============================] - 3s 169ms/step - loss: 7.0253e-05 - accuracy: 1.0000\n",
            "Epoch 50/100\n",
            "20/20 [==============================] - 4s 176ms/step - loss: 6.7809e-05 - accuracy: 1.0000\n",
            "Epoch 51/100\n",
            "20/20 [==============================] - 3s 156ms/step - loss: 6.5290e-05 - accuracy: 1.0000\n",
            "Epoch 52/100\n",
            "20/20 [==============================] - 3s 150ms/step - loss: 6.3111e-05 - accuracy: 1.0000\n",
            "Epoch 53/100\n",
            "20/20 [==============================] - 3s 157ms/step - loss: 6.1017e-05 - accuracy: 1.0000\n",
            "Epoch 54/100\n",
            "20/20 [==============================] - 3s 157ms/step - loss: 5.8987e-05 - accuracy: 1.0000\n",
            "Epoch 55/100\n",
            "20/20 [==============================] - 3s 150ms/step - loss: 5.7101e-05 - accuracy: 1.0000\n",
            "Epoch 56/100\n",
            "20/20 [==============================] - 3s 150ms/step - loss: 5.5308e-05 - accuracy: 1.0000\n",
            "Epoch 57/100\n",
            "20/20 [==============================] - 3s 149ms/step - loss: 5.3611e-05 - accuracy: 1.0000\n",
            "Epoch 58/100\n",
            "20/20 [==============================] - 3s 163ms/step - loss: 5.2031e-05 - accuracy: 1.0000\n",
            "Epoch 59/100\n",
            "20/20 [==============================] - 3s 153ms/step - loss: 5.0495e-05 - accuracy: 1.0000\n",
            "Epoch 60/100\n",
            "20/20 [==============================] - 3s 149ms/step - loss: 4.8970e-05 - accuracy: 1.0000\n",
            "Epoch 61/100\n",
            "20/20 [==============================] - 3s 151ms/step - loss: 4.7552e-05 - accuracy: 1.0000\n",
            "Epoch 62/100\n",
            "20/20 [==============================] - 3s 155ms/step - loss: 4.6152e-05 - accuracy: 1.0000\n",
            "Epoch 63/100\n",
            "20/20 [==============================] - 3s 159ms/step - loss: 4.4704e-05 - accuracy: 1.0000\n",
            "Epoch 64/100\n",
            "20/20 [==============================] - 3s 150ms/step - loss: 4.3469e-05 - accuracy: 1.0000\n",
            "Epoch 65/100\n",
            "20/20 [==============================] - 3s 151ms/step - loss: 4.2269e-05 - accuracy: 1.0000\n",
            "Epoch 66/100\n",
            "20/20 [==============================] - 3s 150ms/step - loss: 4.1127e-05 - accuracy: 1.0000\n",
            "Epoch 67/100\n",
            "20/20 [==============================] - 3s 161ms/step - loss: 4.0013e-05 - accuracy: 1.0000\n",
            "Epoch 68/100\n",
            "20/20 [==============================] - 3s 153ms/step - loss: 3.8980e-05 - accuracy: 1.0000\n",
            "Epoch 69/100\n",
            "20/20 [==============================] - 3s 149ms/step - loss: 3.7952e-05 - accuracy: 1.0000\n",
            "Epoch 70/100\n",
            "20/20 [==============================] - 3s 157ms/step - loss: 3.6993e-05 - accuracy: 1.0000\n",
            "Epoch 71/100\n",
            "20/20 [==============================] - 3s 155ms/step - loss: 3.6037e-05 - accuracy: 1.0000\n",
            "Epoch 72/100\n",
            "20/20 [==============================] - 3s 160ms/step - loss: 3.5155e-05 - accuracy: 1.0000\n",
            "Epoch 73/100\n",
            "20/20 [==============================] - 3s 151ms/step - loss: 3.4245e-05 - accuracy: 1.0000\n",
            "Epoch 74/100\n",
            "20/20 [==============================] - 3s 149ms/step - loss: 3.3435e-05 - accuracy: 1.0000\n",
            "Epoch 75/100\n",
            "20/20 [==============================] - 3s 150ms/step - loss: 3.2605e-05 - accuracy: 1.0000\n",
            "Epoch 76/100\n",
            "20/20 [==============================] - 3s 159ms/step - loss: 3.1829e-05 - accuracy: 1.0000\n",
            "Epoch 77/100\n",
            "20/20 [==============================] - 3s 151ms/step - loss: 3.1069e-05 - accuracy: 1.0000\n",
            "Epoch 78/100\n",
            "20/20 [==============================] - 3s 149ms/step - loss: 3.0347e-05 - accuracy: 1.0000\n",
            "Epoch 79/100\n",
            "20/20 [==============================] - 3s 150ms/step - loss: 2.9638e-05 - accuracy: 1.0000\n",
            "Epoch 80/100\n",
            "20/20 [==============================] - 3s 155ms/step - loss: 2.8955e-05 - accuracy: 1.0000\n",
            "Epoch 81/100\n",
            "20/20 [==============================] - 3s 162ms/step - loss: 2.8301e-05 - accuracy: 1.0000\n",
            "Epoch 82/100\n",
            "20/20 [==============================] - 3s 149ms/step - loss: 2.7669e-05 - accuracy: 1.0000\n",
            "Epoch 83/100\n",
            "20/20 [==============================] - 3s 148ms/step - loss: 2.7052e-05 - accuracy: 1.0000\n",
            "Epoch 84/100\n",
            "20/20 [==============================] - 3s 149ms/step - loss: 2.6444e-05 - accuracy: 1.0000\n",
            "Epoch 85/100\n",
            "20/20 [==============================] - 3s 160ms/step - loss: 2.5861e-05 - accuracy: 1.0000\n",
            "Epoch 86/100\n",
            "20/20 [==============================] - 3s 152ms/step - loss: 2.5305e-05 - accuracy: 1.0000\n",
            "Epoch 87/100\n",
            "20/20 [==============================] - 3s 149ms/step - loss: 2.4765e-05 - accuracy: 1.0000\n",
            "Epoch 88/100\n",
            "20/20 [==============================] - 3s 149ms/step - loss: 2.4244e-05 - accuracy: 1.0000\n",
            "Epoch 89/100\n",
            "20/20 [==============================] - 3s 155ms/step - loss: 2.3722e-05 - accuracy: 1.0000\n",
            "Epoch 90/100\n",
            "20/20 [==============================] - 3s 160ms/step - loss: 2.3210e-05 - accuracy: 1.0000\n",
            "Epoch 91/100\n",
            "20/20 [==============================] - 3s 149ms/step - loss: 2.2741e-05 - accuracy: 1.0000\n",
            "Epoch 92/100\n",
            "20/20 [==============================] - 3s 148ms/step - loss: 2.2259e-05 - accuracy: 1.0000\n",
            "Epoch 93/100\n",
            "20/20 [==============================] - 3s 148ms/step - loss: 2.1811e-05 - accuracy: 1.0000\n",
            "Epoch 94/100\n",
            "20/20 [==============================] - 3s 164ms/step - loss: 2.1370e-05 - accuracy: 1.0000\n",
            "Epoch 95/100\n",
            "20/20 [==============================] - 3s 152ms/step - loss: 2.0926e-05 - accuracy: 1.0000\n",
            "Epoch 96/100\n",
            "20/20 [==============================] - 3s 149ms/step - loss: 2.0503e-05 - accuracy: 1.0000\n",
            "Epoch 97/100\n",
            "20/20 [==============================] - 3s 148ms/step - loss: 2.0109e-05 - accuracy: 1.0000\n",
            "Epoch 98/100\n",
            "20/20 [==============================] - 3s 154ms/step - loss: 1.9713e-05 - accuracy: 1.0000\n",
            "Epoch 99/100\n",
            "20/20 [==============================] - 3s 156ms/step - loss: 1.9337e-05 - accuracy: 1.0000\n",
            "Epoch 100/100\n",
            "20/20 [==============================] - 3s 148ms/step - loss: 1.8947e-05 - accuracy: 1.0000\n"
          ]
        },
        {
          "output_type": "execute_result",
          "data": {
            "text/plain": [
              "<keras.callbacks.History at 0x7f4dd464a920>"
            ]
          },
          "metadata": {},
          "execution_count": 34
        }
      ]
    },
    {
      "cell_type": "code",
      "source": [
        "print(\"train_images shape:\", train_images.shape)"
      ],
      "metadata": {
        "id": "V5Z-7joEsybz",
        "colab": {
          "base_uri": "https://localhost:8080/"
        },
        "outputId": "b0baaca6-4eb5-4cb7-979b-7409c75319e5"
      },
      "execution_count": null,
      "outputs": [
        {
          "output_type": "stream",
          "name": "stdout",
          "text": [
            "train_images shape: (640, 600, 600)\n"
          ]
        }
      ]
    },
    {
      "cell_type": "code",
      "source": [
        "print(\"train_labels shape:\", train_labels.shape)"
      ],
      "metadata": {
        "id": "KQ8gDrWgs3Vd",
        "colab": {
          "base_uri": "https://localhost:8080/"
        },
        "outputId": "8cdab50e-23ec-464f-c76d-7154be4e5d71"
      },
      "execution_count": null,
      "outputs": [
        {
          "output_type": "stream",
          "name": "stdout",
          "text": [
            "train_labels shape: (640,)\n"
          ]
        }
      ]
    },
    {
      "cell_type": "code",
      "source": [
        "from google.colab import drive\n",
        "drive.mount('/content/drive')\n",
        "img = cv2.imread(\"/content/drive/MyDrive/Project/Testimages/AbithatestR1.jpg\")"
      ],
      "metadata": {
        "id": "oRAvTg-mtTwm",
        "colab": {
          "base_uri": "https://localhost:8080/"
        },
        "outputId": "a3e2ca08-86da-4aff-a217-16d0736dc8d4"
      },
      "execution_count": null,
      "outputs": [
        {
          "output_type": "stream",
          "name": "stdout",
          "text": [
            "Drive already mounted at /content/drive; to attempt to forcibly remount, call drive.mount(\"/content/drive\", force_remount=True).\n"
          ]
        }
      ]
    },
    {
      "cell_type": "code",
      "source": [
        "gray = cv2.cvtColor(img, cv2.COLOR_BGR2GRAY)\n",
        "print(\"converted to gray\")"
      ],
      "metadata": {
        "id": "7Y4MCQyCtwhV",
        "colab": {
          "base_uri": "https://localhost:8080/"
        },
        "outputId": "6811760a-484f-4e10-9795-cdc87eca1447"
      },
      "execution_count": null,
      "outputs": [
        {
          "output_type": "stream",
          "name": "stdout",
          "text": [
            "converted to gray\n"
          ]
        }
      ]
    },
    {
      "cell_type": "code",
      "source": [
        "kernel = np.ones((7, 7), np.float32) / 49\n",
        "blurred_image = cv2.filter2D(gray, -1, kernel)\n",
        "print(\"blurred image\")"
      ],
      "metadata": {
        "id": "KcBjhYhwtz4M",
        "colab": {
          "base_uri": "https://localhost:8080/"
        },
        "outputId": "0865da75-ca39-4dec-c0f0-1dc02362c565"
      },
      "execution_count": null,
      "outputs": [
        {
          "output_type": "stream",
          "name": "stdout",
          "text": [
            "blurred image\n"
          ]
        }
      ]
    },
    {
      "cell_type": "code",
      "source": [
        "noiseReduced = cv2.fastNlMeansDenoising(blurred_image)\n",
        "print(\"noiseReduced\")"
      ],
      "metadata": {
        "id": "_PwIOzSZt2O_",
        "colab": {
          "base_uri": "https://localhost:8080/"
        },
        "outputId": "5c818538-c228-4c06-d29f-c55ecbf27528"
      },
      "execution_count": null,
      "outputs": [
        {
          "output_type": "stream",
          "name": "stdout",
          "text": [
            "noiseReduced\n"
          ]
        }
      ]
    },
    {
      "cell_type": "code",
      "source": [
        "bot_1_kernal = np.ones((7,7),np.uint8)\n",
        "eqimg = cv2.morphologyEx(noiseReduced, cv2.MORPH_OPEN, bot_1_kernal)"
      ],
      "metadata": {
        "id": "MMu67gEpt_Oz"
      },
      "execution_count": null,
      "outputs": []
    },
    {
      "cell_type": "code",
      "source": [
        "equ = cv2.equalizeHist(eqimg)\n",
        "print(\"HistogramEquavilization\")"
      ],
      "metadata": {
        "id": "6SJsLCxtuAZ7",
        "colab": {
          "base_uri": "https://localhost:8080/"
        },
        "outputId": "6b9a9e12-2829-4e8b-803e-d41ed51b457a"
      },
      "execution_count": null,
      "outputs": [
        {
          "output_type": "stream",
          "name": "stdout",
          "text": [
            "HistogramEquavilization\n"
          ]
        }
      ]
    },
    {
      "cell_type": "code",
      "source": [
        "inv = 255 - equ\n",
        "print(\"Inversion\")"
      ],
      "metadata": {
        "id": "03UDTT7cuDkC",
        "colab": {
          "base_uri": "https://localhost:8080/"
        },
        "outputId": "d2d2a9ed-24c4-4995-d2e8-867076d66bc2"
      },
      "execution_count": null,
      "outputs": [
        {
          "output_type": "stream",
          "name": "stdout",
          "text": [
            "Inversion\n"
          ]
        }
      ]
    },
    {
      "cell_type": "code",
      "source": [
        "kernel = np.ones((7, 7), np.float32) / 49\n",
        "blurr_image = cv2.filter2D(inv, -1, kernel)\n",
        "print(\"blurred inverted image\")"
      ],
      "metadata": {
        "id": "pSp8DKKJuG77",
        "colab": {
          "base_uri": "https://localhost:8080/"
        },
        "outputId": "8afaa4ab-8216-451b-e7c4-51b0c0bcac1e"
      },
      "execution_count": null,
      "outputs": [
        {
          "output_type": "stream",
          "name": "stdout",
          "text": [
            "blurred inverted image\n"
          ]
        }
      ]
    },
    {
      "cell_type": "code",
      "source": [
        "img1 = blurr_image.copy()\n",
        "skel = img1.copy()\n",
        "skel[:,:] = 0\n",
        "kernel = cv2.getStructuringElement(cv2.MORPH_CROSS, (7,7))\n",
        "while cv2.countNonZero(img1) > 0:\n",
        "    eroded = cv2.morphologyEx(img1, cv2.MORPH_ERODE, kernel)\n",
        "    temp = cv2.morphologyEx(eroded, cv2.MORPH_DILATE, kernel)\n",
        "    temp  = cv2.subtract(img1, temp)\n",
        "    \n",
        "    skel = cv2.bitwise_or(skel, temp)\n",
        "    img1[:,:] = eroded[:,:]\n",
        "print(\"erosion and skeletonize\")"
      ],
      "metadata": {
        "id": "cDJDAMLuuL4e",
        "colab": {
          "base_uri": "https://localhost:8080/"
        },
        "outputId": "f320caac-b988-4fc3-a76f-913ba00fa7cf"
      },
      "execution_count": null,
      "outputs": [
        {
          "output_type": "stream",
          "name": "stdout",
          "text": [
            "erosion and skeletonize\n"
          ]
        }
      ]
    },
    {
      "cell_type": "code",
      "source": [
        "ret, thr1 = cv2.threshold(skel,2,255, cv2.THRESH_BINARY);"
      ],
      "metadata": {
        "id": "YoHhkcjMuQDa"
      },
      "execution_count": null,
      "outputs": []
    },
    {
      "cell_type": "code",
      "source": [
        "cv2_imshow(thr1)"
      ],
      "metadata": {
        "id": "P6tfABt0SvJF",
        "colab": {
          "base_uri": "https://localhost:8080/",
          "height": 617
        },
        "outputId": "f2061ec1-6496-42eb-8a5d-ff1c49422923"
      },
      "execution_count": null,
      "outputs": [
        {
          "output_type": "display_data",
          "data": {
            "text/plain": [
              "<PIL.Image.Image image mode=L size=600x600 at 0x7F4DD431B0A0>"
            ],
            "image/png": "[encoded data removed]"
          },
          "metadata": {}
        }
      ]
    },
    {
      "cell_type": "code",
      "source": [
        "cv2.imwrite(\"thr.jpg\", thr1)"
      ],
      "metadata": {
        "id": "Y6jTTQzyuet4",
        "colab": {
          "base_uri": "https://localhost:8080/"
        },
        "outputId": "5165d00c-6bba-4478-a0e7-579b5eaae6fc"
      },
      "execution_count": null,
      "outputs": [
        {
          "output_type": "execute_result",
          "data": {
            "text/plain": [
              "True"
            ]
          },
          "metadata": {},
          "execution_count": 48
        }
      ]
    },
    {
      "cell_type": "code",
      "source": [
        "# predict\n",
        "pic = np.array(Image.open(\"thr.jpg\"))\n",
        "test_images = np.array([pic])\n",
        "print (\"predicting result\")\n",
        "predictions = model.predict(test_images)\n",
        "# Set the threshold value\n",
        "threshold = 0.9\n",
        "\n",
        "# Get the maximum probability\n",
        "max_prob = np.max(predictions)\n",
        "\n",
        "# Print the predicted class if the maximum probability is greater than or equal to the threshold\n",
        "if max_prob >= threshold:\n",
        "    predicted_class = classes[np.argmax(predictions)]\n",
        "    print(f\"Predicted class: {predicted_class}\")\n",
        "else:\n",
        "    print(\"Unknown\")"
      ],
      "metadata": {
        "id": "dcPq-o6Eu6cO",
        "colab": {
          "base_uri": "https://localhost:8080/"
        },
        "outputId": "bebfcbcd-cfbb-4ef9-bac5-4549d14c6218"
      },
      "execution_count": null,
      "outputs": [
        {
          "output_type": "stream",
          "name": "stdout",
          "text": [
            "predicting result\n",
            "1/1 [==============================] - 0s 21ms/step\n",
            "Predicted class: Abitha\n"
          ]
        }
      ]
    }
  ]
}