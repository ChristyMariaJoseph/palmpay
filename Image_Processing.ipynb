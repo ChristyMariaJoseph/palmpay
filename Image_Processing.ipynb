{
  "cells": [
    {
      "cell_type": "markdown",
      "metadata": {
        "id": "view-in-github",
        "colab_type": "text"
      },
      "source": [
        "<a href=\"https://colab.research.google.com/github/ChristyMariaJoseph/palmpay/blob/main/Image_Processing.ipynb\" target=\"_parent\"><img src=\"https://colab.research.google.com/assets/colab-badge.svg\" alt=\"Open In Colab\"/></a>"
      ]
    },
    {
      "cell_type": "code",
      "execution_count": null,
      "metadata": {
        "id": "8ai9K83t6kYi"
      },
      "outputs": [],
      "source": [
        "import io\n",
        "from google.colab import auth\n",
        "from googleapiclient.discovery import build\n",
        "from googleapiclient.errors import HttpError\n",
        "from PIL import Image\n",
        "from googleapiclient.http import MediaIoBaseUpload\n",
        "from google.colab.patches import cv2_imshow\n",
        "import numpy as np\n",
        "import cv2 as cv\n",
        "import matplotlib.pyplot as plt"
      ]
    },
    {
      "cell_type": "code",
      "execution_count": null,
      "metadata": {
        "id": "xhcH9OoX7RLf"
      },
      "outputs": [],
      "source": [
        "# Replace 'folder_id' with the actual ID of the Google Drive folder containing the images to be rotated\n",
        "folder_id = '1h_Enb2qS306a_hcajeBHYFCRdKZ0VQiN'"
      ]
    },
    {
      "cell_type": "code",
      "execution_count": null,
      "metadata": {
        "id": "Ju5BG-Mn7lvZ"
      },
      "outputs": [],
      "source": [
        "destination_folder_id = '1h_Enb2qS306a_hcajeBHYFCRdKZ0VQiN'"
      ]
    },
    {
      "cell_type": "code",
      "execution_count": null,
      "metadata": {
        "id": "udFcwYlI6nxS"
      },
      "outputs": [],
      "source": [
        "# Authenticate with the Google Drive API\n",
        "auth.authenticate_user()\n",
        "drive_service = build('drive', 'v3')"
      ]
    },
    {
      "cell_type": "code",
      "execution_count": null,
      "metadata": {
        "id": "aE1gNSC98Dqo"
      },
      "outputs": [],
      "source": [
        "# Define query parameters to retrieve files within the folder\n",
        "query = f\"'{folder_id}' in parents\"  # Query to retrieve files within the folder\n",
        "fields = \"nextPageToken, files(id, name, mimeType)\"  # Fields to include in the API response"
      ]
    },
    {
      "cell_type": "code",
      "execution_count": null,
      "metadata": {
        "id": "2Q5WAv0D8GbM"
      },
      "outputs": [],
      "source": [
        "# Retrieve the list of files within the folder\n",
        "results = drive_service.files().list(q=query, fields=fields).execute()\n",
        "files = results.get('files', [])\n",
        "fixed_resolution = (600,600)"
      ]
    },
    {
      "cell_type": "code",
      "execution_count": null,
      "metadata": {
        "id": "7E7bGJu68nQj"
      },
      "outputs": [],
      "source": [
        "# Loop through the files in the folder\n",
        "for file in files:\n",
        "    file_id = file['id']\n",
        "    filename = file['name']\n",
        "    mimetype = file['mimeType']\n",
        "    # Check if the file is an image\n",
        "    if mimetype.startswith('image/'):\n",
        "   # Download the image from Google Drive\n",
        "     request = drive_service.files().get_media(fileId=file_id)\n",
        "     image_bytes = io.BytesIO(request.execute())\n",
        "     # Open the image using PIL (Pillow)\n",
        "     image = Image.open(image_bytes)  \n",
        "     import cv2\n",
        "     # Convert the image to a numpy array\n",
        "     image_array = np.array(image)\n",
        "     gray = cv2.cvtColor(image_array, cv2.COLOR_BGR2GRAY)\n",
        "     kernel = np.ones((7, 7), np.float32) / 49\n",
        "     blurred_image = cv2.filter2D(gray, -1, kernel) \n",
        "     noiseReduced = cv2.fastNlMeansDenoising(blurred_image)\n",
        "     bot_1_kernal = np.ones((7,7),np.uint8)\n",
        "     eqimg = cv2.morphologyEx(noiseReduced, cv2.MORPH_OPEN, bot_1_kernal)\n",
        "     equ = cv2.equalizeHist(eqimg)\n",
        "     inv = 255 - equ\n",
        "     kernel = np.ones((7, 7), np.float32) / 49\n",
        "     blurred_img = cv2.filter2D(inv, -1, kernel)\n",
        "     img = blurred_img.copy()\n",
        "     skel = img.copy()\n",
        "     skel[:,:] = 0\n",
        "     kernel = cv2.getStructuringElement(cv2.MORPH_CROSS, (5,5))\n",
        "     while cv2.countNonZero(img) > 0:\n",
        "       eroded = cv2.morphologyEx(img, cv2.MORPH_ERODE, kernel)\n",
        "       temp = cv2.morphologyEx(eroded, cv2.MORPH_DILATE, kernel)\n",
        "       temp  = cv2.subtract(img, temp)\n",
        "       skel = cv2.bitwise_or(skel, temp)\n",
        "       img[:,:] = eroded[:,:]\n",
        "     ret, thr1 = cv2.threshold(skel,2,255, cv2.THRESH_BINARY)\n",
        "     thr1 = Image.fromarray(thr1)\n",
        "     thr1_bytes = io.BytesIO()\n",
        "     thr1.save(thr1_bytes, format=image.format)\n",
        "     # Upload the rotated image back to Google Drive in the destination folder\n",
        "     media = MediaIoBaseUpload(thr1_bytes, mimetype='image/jpeg', resumable=True)\n",
        "     file_metadata = {'name': f'{filename}'}\n",
        "     file = drive_service.files().create(\n",
        "            body=file_metadata,\n",
        "            media_body=media,\n",
        "            fields='id'\n",
        "      ).execute()\n",
        "      # Move the rotated image to the destination folder\n",
        "     file_id = file['id']\n",
        "     destination_folder_id = '1rXezt47a3H8Kx6RVQyaBJgp61VcawKR0' # Replace with the correct destination folder ID\n",
        "     file_metadata = {\n",
        "      'addParents': destination_folder_id,\n",
        "      'removeParents': file_id,\n",
        "     }\n",
        "     file = drive_service.files().update(\n",
        "       fileId=file_id,\n",
        "       body=file_metadata,\n",
        "       fields='id, parents'\n",
        "     ).execute()  "
      ]
    }
  ],
  "metadata": {
    "colab": {
      "provenance": [],
      "mount_file_id": "1-goGfH9PvDYJQ7F4sQzFwW5WwT0ShVrx",
      "authorship_tag": "ABX9TyOjlVBVJzNWt6guNBGTwqgH",
      "include_colab_link": true
    },
    "kernelspec": {
      "display_name": "Python 3",
      "name": "python3"
    },
    "language_info": {
      "name": "python"
    },
    "accelerator": "GPU",
    "gpuClass": "standard"
  },
  "nbformat": 4,
  "nbformat_minor": 0
}